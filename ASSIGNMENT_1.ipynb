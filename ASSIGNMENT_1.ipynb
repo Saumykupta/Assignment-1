{
  "nbformat": 4,
  "nbformat_minor": 0,
  "metadata": {
    "colab": {
      "provenance": [],
      "collapsed_sections": []
    },
    "kernelspec": {
      "name": "python3",
      "display_name": "Python 3"
    },
    "language_info": {
      "name": "python"
    }
  },
  "cells": [
    {
      "cell_type": "code",
      "source": [
        "s = \"this is My First Python programming class and i am learNING python string and its function\"\n"
      ],
      "metadata": {
        "id": "ri885B8Q_iSr"
      },
      "execution_count": 3,
      "outputs": []
    },
    {
      "cell_type": "code",
      "source": [
        "# 1 . Try to extract data from index one to index 300 with a jump of 3 "
      ],
      "metadata": {
        "id": "cDVZeG-9_iQB"
      },
      "execution_count": null,
      "outputs": []
    },
    {
      "cell_type": "code",
      "source": [
        "s[1:300:3]"
      ],
      "metadata": {
        "colab": {
          "base_uri": "https://localhost:8080/",
          "height": 35
        },
        "id": "_yvFJJ49_iNn",
        "outputId": "73f96de6-4e93-42c5-931f-52b0c13915ac"
      },
      "execution_count": 2,
      "outputs": [
        {
          "output_type": "execute_result",
          "data": {
            "text/plain": [
              "'h   r tnrrmglsnimeNGyosi dtfco'"
            ],
            "application/vnd.google.colaboratory.intrinsic+json": {
              "type": "string"
            }
          },
          "metadata": {},
          "execution_count": 2
        }
      ]
    },
    {
      "cell_type": "code",
      "source": [
        "# 2. Try to reverse a string without using reverse function "
      ],
      "metadata": {
        "id": "8BdaJp4Y_iLA"
      },
      "execution_count": null,
      "outputs": []
    },
    {
      "cell_type": "code",
      "source": [
        "s[::-1]"
      ],
      "metadata": {
        "colab": {
          "base_uri": "https://localhost:8080/",
          "height": 35
        },
        "id": "cTyRJq0a_iJL",
        "outputId": "ce7950fe-f28b-43c6-f446-bb840aab8cfa"
      },
      "execution_count": 4,
      "outputs": [
        {
          "output_type": "execute_result",
          "data": {
            "text/plain": [
              "'noitcnuf sti dna gnirts nohtyp GNINrael ma i dna ssalc gnimmargorp nohtyP tsriF yM si siht'"
            ],
            "application/vnd.google.colaboratory.intrinsic+json": {
              "type": "string"
            }
          },
          "metadata": {},
          "execution_count": 4
        }
      ]
    },
    {
      "cell_type": "code",
      "source": [
        "# 3. Try to split a string after conversion of entire string in uppercase "
      ],
      "metadata": {
        "id": "ZPrF88WX_iGa"
      },
      "execution_count": null,
      "outputs": []
    },
    {
      "cell_type": "code",
      "source": [
        "s.split('p')"
      ],
      "metadata": {
        "colab": {
          "base_uri": "https://localhost:8080/"
        },
        "id": "k-lxvh54_iEC",
        "outputId": "1dbb46d7-e973-476f-dc66-f91a0ac7214c"
      },
      "execution_count": 5,
      "outputs": [
        {
          "output_type": "execute_result",
          "data": {
            "text/plain": [
              "['this is My First Python ',\n",
              " 'rogramming class and i am learNING ',\n",
              " 'ython string and its function']"
            ]
          },
          "metadata": {},
          "execution_count": 5
        }
      ]
    },
    {
      "cell_type": "code",
      "source": [
        "s"
      ],
      "metadata": {
        "colab": {
          "base_uri": "https://localhost:8080/",
          "height": 35
        },
        "id": "s75hMuMgJ3ut",
        "outputId": "502ca102-987d-4cbd-897f-9775b4cfc5e7"
      },
      "execution_count": 6,
      "outputs": [
        {
          "output_type": "execute_result",
          "data": {
            "text/plain": [
              "'this is My First Python programming class and i am learNING python string and its function'"
            ],
            "application/vnd.google.colaboratory.intrinsic+json": {
              "type": "string"
            }
          },
          "metadata": {},
          "execution_count": 6
        }
      ]
    },
    {
      "cell_type": "code",
      "source": [
        "s.upper()"
      ],
      "metadata": {
        "colab": {
          "base_uri": "https://localhost:8080/",
          "height": 35
        },
        "id": "buhIDzvyJ66r",
        "outputId": "5f023fae-e97a-4737-c314-8e5462ac4cb4"
      },
      "execution_count": 10,
      "outputs": [
        {
          "output_type": "execute_result",
          "data": {
            "text/plain": [
              "'THIS IS MY FIRST PYTHON PROGRAMMING CLASS AND I AM LEARNING PYTHON STRING AND ITS FUNCTION'"
            ],
            "application/vnd.google.colaboratory.intrinsic+json": {
              "type": "string"
            }
          },
          "metadata": {},
          "execution_count": 10
        }
      ]
    },
    {
      "cell_type": "code",
      "source": [
        "# 4. try to convert the whole string into lower case "
      ],
      "metadata": {
        "id": "5AxbFRjB_iB5"
      },
      "execution_count": null,
      "outputs": []
    },
    {
      "cell_type": "code",
      "source": [
        "s"
      ],
      "metadata": {
        "colab": {
          "base_uri": "https://localhost:8080/",
          "height": 35
        },
        "id": "gCjWqc-K_h_u",
        "outputId": "8a79a1b5-18df-4c65-a7d8-c2f544db5925"
      },
      "execution_count": 11,
      "outputs": [
        {
          "output_type": "execute_result",
          "data": {
            "text/plain": [
              "'this is My First Python programming class and i am learNING python string and its function'"
            ],
            "application/vnd.google.colaboratory.intrinsic+json": {
              "type": "string"
            }
          },
          "metadata": {},
          "execution_count": 11
        }
      ]
    },
    {
      "cell_type": "code",
      "source": [
        "s.lower()"
      ],
      "metadata": {
        "colab": {
          "base_uri": "https://localhost:8080/",
          "height": 35
        },
        "id": "YhSozW3K_h9Q",
        "outputId": "8d148b2d-b011-46dc-c827-a5edad1eab10"
      },
      "execution_count": 12,
      "outputs": [
        {
          "output_type": "execute_result",
          "data": {
            "text/plain": [
              "'this is my first python programming class and i am learning python string and its function'"
            ],
            "application/vnd.google.colaboratory.intrinsic+json": {
              "type": "string"
            }
          },
          "metadata": {},
          "execution_count": 12
        }
      ]
    },
    {
      "cell_type": "code",
      "source": [
        "# 5 . Try to capitalize the whole string "
      ],
      "metadata": {
        "id": "lWNItDFDKTwc"
      },
      "execution_count": 41,
      "outputs": []
    },
    {
      "cell_type": "code",
      "source": [
        "s.capitalize()"
      ],
      "metadata": {
        "colab": {
          "base_uri": "https://localhost:8080/",
          "height": 35
        },
        "id": "imNC-fZ0KTqj",
        "outputId": "b4f456a4-04e3-446b-82db-e251e2886b90"
      },
      "execution_count": 14,
      "outputs": [
        {
          "output_type": "execute_result",
          "data": {
            "text/plain": [
              "'This is my first python programming class and i am learning python string and its function'"
            ],
            "application/vnd.google.colaboratory.intrinsic+json": {
              "type": "string"
            }
          },
          "metadata": {},
          "execution_count": 14
        }
      ]
    },
    {
      "cell_type": "code",
      "source": [
        "# 6 . Write a diference between isalnum() and isalpha()\n",
        "# Ans 6: isalnum() --> The isalnum() method only returns True if all characters in the string are alphanumeric(either alphabets or\n",
        "# numbers). If not, it returns False.\n",
        "\n",
        "# Ans: isalpha() --> The isalpha() method returns True if a string only contains letters. Check whethe character is digit."
      ],
      "metadata": {
        "id": "_GGzhs_aKToO"
      },
      "execution_count": null,
      "outputs": []
    },
    {
      "cell_type": "code",
      "source": [
        "# 7. Try to give an example of expand tab"
      ],
      "metadata": {
        "id": "OApHskKIKTlc"
      },
      "execution_count": null,
      "outputs": []
    },
    {
      "cell_type": "code",
      "source": [
        "s = \"this\\tis\\tMy\\tFirst\\tPython\\tprogramming\\tclass\\tand\\ti\\tam\\tlearNING\\tpython\\tstring\\tand\\tits\\tfunction\" "
      ],
      "metadata": {
        "id": "X49HmCYRMsdc"
      },
      "execution_count": 24,
      "outputs": []
    },
    {
      "cell_type": "code",
      "source": [
        "s.expandtabs()"
      ],
      "metadata": {
        "colab": {
          "base_uri": "https://localhost:8080/",
          "height": 53
        },
        "id": "yQYrcozGNSND",
        "outputId": "2bbf615f-57e6-4f26-eee8-16e285a762de"
      },
      "execution_count": 25,
      "outputs": [
        {
          "output_type": "execute_result",
          "data": {
            "text/plain": [
              "'this    is      My      First   Python  programming     class   and     i       am      learNING        python  string  and     its     function'"
            ],
            "application/vnd.google.colaboratory.intrinsic+json": {
              "type": "string"
            }
          },
          "metadata": {},
          "execution_count": 25
        }
      ]
    },
    {
      "cell_type": "code",
      "source": [
        "# 8 . Give an example of strip , lstrip and rstrip "
      ],
      "metadata": {
        "id": "9FhTlUNoKTip"
      },
      "execution_count": null,
      "outputs": []
    },
    {
      "cell_type": "code",
      "source": [
        "s = \"  Saumya  \""
      ],
      "metadata": {
        "id": "jigpuRK2ORKC"
      },
      "execution_count": 29,
      "outputs": []
    },
    {
      "cell_type": "code",
      "source": [
        "s.strip()"
      ],
      "metadata": {
        "colab": {
          "base_uri": "https://localhost:8080/",
          "height": 35
        },
        "id": "DbpPnP5ZORBw",
        "outputId": "a378f06b-36f4-49a2-bca2-64f6b56162c7"
      },
      "execution_count": 30,
      "outputs": [
        {
          "output_type": "execute_result",
          "data": {
            "text/plain": [
              "'Saumya'"
            ],
            "application/vnd.google.colaboratory.intrinsic+json": {
              "type": "string"
            }
          },
          "metadata": {},
          "execution_count": 30
        }
      ]
    },
    {
      "cell_type": "code",
      "source": [
        "s.lstrip()"
      ],
      "metadata": {
        "colab": {
          "base_uri": "https://localhost:8080/",
          "height": 35
        },
        "id": "kufX9xa2OQ3Q",
        "outputId": "bd83ba12-8930-4679-de25-641b9e7e4a05"
      },
      "execution_count": 31,
      "outputs": [
        {
          "output_type": "execute_result",
          "data": {
            "text/plain": [
              "'Saumya  '"
            ],
            "application/vnd.google.colaboratory.intrinsic+json": {
              "type": "string"
            }
          },
          "metadata": {},
          "execution_count": 31
        }
      ]
    },
    {
      "cell_type": "code",
      "source": [
        "s.rstrip()"
      ],
      "metadata": {
        "colab": {
          "base_uri": "https://localhost:8080/",
          "height": 35
        },
        "id": "cPLR4NVaO267",
        "outputId": "2598650a-c2f5-46dd-a19b-91b7509a1986"
      },
      "execution_count": 32,
      "outputs": [
        {
          "output_type": "execute_result",
          "data": {
            "text/plain": [
              "'  Saumya'"
            ],
            "application/vnd.google.colaboratory.intrinsic+json": {
              "type": "string"
            }
          },
          "metadata": {},
          "execution_count": 32
        }
      ]
    },
    {
      "cell_type": "code",
      "source": [
        "# 9.  Replace a string charecter by another charector by taking your own example \n",
        "\"sudhanshu\""
      ],
      "metadata": {
        "id": "4QEthE4pKTf8"
      },
      "execution_count": null,
      "outputs": []
    },
    {
      "cell_type": "code",
      "source": [
        "s=\"sudhanshu\""
      ],
      "metadata": {
        "id": "9Iy8rfIAU616"
      },
      "execution_count": 56,
      "outputs": []
    },
    {
      "cell_type": "code",
      "source": [
        "s1 = s.replace('sudhanshu', 'saumya')\n",
        "s1"
      ],
      "metadata": {
        "colab": {
          "base_uri": "https://localhost:8080/",
          "height": 35
        },
        "id": "Jv6M3n3BU9GD",
        "outputId": "f4e6e604-3b1b-4c26-ec18-0ce4d34a0701"
      },
      "execution_count": 66,
      "outputs": [
        {
          "output_type": "execute_result",
          "data": {
            "text/plain": [
              "'saumya'"
            ],
            "application/vnd.google.colaboratory.intrinsic+json": {
              "type": "string"
            }
          },
          "metadata": {},
          "execution_count": 66
        }
      ]
    },
    {
      "cell_type": "code",
      "source": [
        "# 10 . Try  to give a defination of string center function with and exmple \n",
        "# Ans10: string center --> The center() method will center align the string, using a specified character (space is default)\n",
        "# as the fill character.."
      ],
      "metadata": {
        "id": "qCUwaKjnKTdg"
      },
      "execution_count": null,
      "outputs": []
    },
    {
      "cell_type": "code",
      "source": [
        "s = \"Saumya Gupta\""
      ],
      "metadata": {
        "id": "B3nC_cSAPC0x"
      },
      "execution_count": 37,
      "outputs": []
    },
    {
      "cell_type": "code",
      "source": [
        "s.center(30,'#')"
      ],
      "metadata": {
        "colab": {
          "base_uri": "https://localhost:8080/",
          "height": 35
        },
        "id": "AapqtukMPG9T",
        "outputId": "af624889-182b-4a6a-f296-e666ae970eb1"
      },
      "execution_count": 38,
      "outputs": [
        {
          "output_type": "execute_result",
          "data": {
            "text/plain": [
              "'#########Saumya Gupta#########'"
            ],
            "application/vnd.google.colaboratory.intrinsic+json": {
              "type": "string"
            }
          },
          "metadata": {},
          "execution_count": 38
        }
      ]
    },
    {
      "cell_type": "code",
      "source": [
        "# 11 . Write your own definition of compiler and interpretor without copy paste form internet in your own language\n",
        "# Ans: Compiler --> A compiler is a special program that translates a programming language's source code into machine code, byte code\n",
        "# or another programming language. The source code is typically written in a high level, human-readable language such as java or c++.\n",
        "\n",
        "# Ans: Interpretor --> Interpretor translates just one statement of the program at a time into machine code... "
      ],
      "metadata": {
        "id": "oPzpwvzwKTa4"
      },
      "execution_count": null,
      "outputs": []
    },
    {
      "cell_type": "code",
      "source": [
        "# 12 . Python is a interpreted of compiled language give a clear ans with your understanding \n",
        "\n",
        "# Ans: Python is a interpreted language, which means the source code of a Python program is convertd into a bytecode that is then\n",
        "# executed by the python virtual machine. Python is a interpreted language because python is called interpreted language while other\n",
        "# programming languages like, C, C++, java etc generate results after compilation."
      ],
      "metadata": {
        "id": "0Hap496AKTXw"
      },
      "execution_count": null,
      "outputs": []
    },
    {
      "cell_type": "code",
      "source": [
        "# 13 . Try to write a usecase of python with your understanding .\n",
        "# Ans: Python is an excellent tool for businesses for web development. But there's more to python than meets the eye. It is a\n",
        "# powerful programming language for applications of the future.\n",
        "\n",
        "# Example: Data Science, Artificial Intelligence, Game development, Desktop GUI etc..."
      ],
      "metadata": {
        "id": "W949IrKAKTVC"
      },
      "execution_count": null,
      "outputs": []
    },
    {
      "cell_type": "code",
      "source": [],
      "metadata": {
        "id": "gCOrL0bJKTSR"
      },
      "execution_count": null,
      "outputs": []
    },
    {
      "cell_type": "code",
      "source": [],
      "metadata": {
        "id": "ojZ1r7gPKTPf"
      },
      "execution_count": null,
      "outputs": []
    },
    {
      "cell_type": "code",
      "source": [],
      "metadata": {
        "id": "pzDVnm1WKTMh"
      },
      "execution_count": null,
      "outputs": []
    },
    {
      "cell_type": "code",
      "source": [],
      "metadata": {
        "id": "mpuOZfrNKTJ_"
      },
      "execution_count": null,
      "outputs": []
    },
    {
      "cell_type": "code",
      "source": [],
      "metadata": {
        "id": "AbMHTcZkKTHU"
      },
      "execution_count": null,
      "outputs": []
    },
    {
      "cell_type": "code",
      "source": [],
      "metadata": {
        "id": "Nsm9wq5mKTEi"
      },
      "execution_count": null,
      "outputs": []
    },
    {
      "cell_type": "code",
      "source": [],
      "metadata": {
        "id": "jctdOhfwKTBu"
      },
      "execution_count": null,
      "outputs": []
    },
    {
      "cell_type": "code",
      "source": [],
      "metadata": {
        "id": "_R9TMKUfKS_a"
      },
      "execution_count": null,
      "outputs": []
    },
    {
      "cell_type": "code",
      "source": [],
      "metadata": {
        "id": "a1CYgjn6KS9M"
      },
      "execution_count": null,
      "outputs": []
    },
    {
      "cell_type": "code",
      "source": [],
      "metadata": {
        "id": "EfTjp9wrKS6W"
      },
      "execution_count": null,
      "outputs": []
    },
    {
      "cell_type": "code",
      "source": [],
      "metadata": {
        "id": "bAz8d4CxKS3d"
      },
      "execution_count": null,
      "outputs": []
    },
    {
      "cell_type": "code",
      "source": [],
      "metadata": {
        "id": "RNPknPPkKS0V"
      },
      "execution_count": null,
      "outputs": []
    },
    {
      "cell_type": "code",
      "source": [],
      "metadata": {
        "id": "f4EbT64a_h67"
      },
      "execution_count": null,
      "outputs": []
    },
    {
      "cell_type": "code",
      "source": [],
      "metadata": {
        "id": "rWRZIQdd_h4N"
      },
      "execution_count": null,
      "outputs": []
    },
    {
      "cell_type": "code",
      "source": [],
      "metadata": {
        "id": "RzGWlImR_h1m"
      },
      "execution_count": null,
      "outputs": []
    },
    {
      "cell_type": "code",
      "execution_count": null,
      "metadata": {
        "id": "Tqwz7tDo_bqx"
      },
      "outputs": [],
      "source": []
    }
  ]
}